{
 "cells": [
  {
   "cell_type": "code",
   "execution_count": 1,
   "metadata": {},
   "outputs": [
    {
     "name": "stderr",
     "output_type": "stream",
     "text": [
      "Using TensorFlow backend.\n"
     ]
    }
   ],
   "source": [
    "from keras.models import Sequential\n",
    "from keras.layers import Dense\n",
    "from keras.layers import Convolution2D\n",
    "from keras.layers import MaxPooling2D\n",
    "from keras.layers import Flatten"
   ]
  },
  {
   "cell_type": "code",
   "execution_count": 2,
   "metadata": {},
   "outputs": [],
   "source": [
    "model=Sequential()"
   ]
  },
  {
   "cell_type": "code",
   "execution_count": 3,
   "metadata": {},
   "outputs": [],
   "source": [
    "model.add(Convolution2D(32,(3,3), input_shape=(64,64,3),activation='relu'))"
   ]
  },
  {
   "cell_type": "code",
   "execution_count": 4,
   "metadata": {},
   "outputs": [],
   "source": [
    "model.add(MaxPooling2D(2,2))"
   ]
  },
  {
   "cell_type": "code",
   "execution_count": 5,
   "metadata": {},
   "outputs": [],
   "source": [
    "model.add(Flatten())"
   ]
  },
  {
   "cell_type": "code",
   "execution_count": 6,
   "metadata": {},
   "outputs": [
    {
     "name": "stderr",
     "output_type": "stream",
     "text": [
      "C:\\Users\\dell\\anaconda3\\lib\\site-packages\\ipykernel_launcher.py:1: UserWarning: Update your `Dense` call to the Keras 2 API: `Dense(units=600, activation=\"relu\", kernel_initializer=\"uniform\")`\n",
      "  \"\"\"Entry point for launching an IPython kernel.\n"
     ]
    }
   ],
   "source": [
    "model.add(Dense(units=600, init='uniform',activation='relu'))"
   ]
  },
  {
   "cell_type": "code",
   "execution_count": 7,
   "metadata": {},
   "outputs": [
    {
     "name": "stderr",
     "output_type": "stream",
     "text": [
      "C:\\Users\\dell\\anaconda3\\lib\\site-packages\\ipykernel_launcher.py:1: UserWarning: Update your `Dense` call to the Keras 2 API: `Dense(units=1, activation=\"sigmoid\", kernel_initializer=\"uniform\")`\n",
      "  \"\"\"Entry point for launching an IPython kernel.\n"
     ]
    }
   ],
   "source": [
    "model.add(Dense(units=1, init='uniform', activation='sigmoid'))"
   ]
  },
  {
   "cell_type": "code",
   "execution_count": 8,
   "metadata": {},
   "outputs": [],
   "source": [
    "from keras.preprocessing.image import ImageDataGenerator\n",
    "train_datagen=ImageDataGenerator(rescale=1./255, shear_range=0.2, zoom_range=0.2, horizontal_flip=True,vertical_flip=True)\n",
    "test_datagen=ImageDataGenerator(rescale=1./255)"
   ]
  },
  {
   "cell_type": "code",
   "execution_count": 9,
   "metadata": {},
   "outputs": [
    {
     "name": "stdout",
     "output_type": "stream",
     "text": [
      "Found 1877 images belonging to 2 classes.\n"
     ]
    }
   ],
   "source": [
    "x_train=train_datagen.flow_from_directory(r'C:\\Users\\dell\\Desktop\\dilhaZ\\Ismile Tech\\Covid-cnn-code\\Covid_CNN\\data\\train',target_size=(64,64), batch_size=32,class_mode='binary')"
   ]
  },
  {
   "cell_type": "code",
   "execution_count": 10,
   "metadata": {},
   "outputs": [
    {
     "name": "stdout",
     "output_type": "stream",
     "text": [
      "Found 358 images belonging to 2 classes.\n"
     ]
    }
   ],
   "source": [
    "x_test=test_datagen.flow_from_directory(r'C:\\Users\\dell\\Desktop\\dilhaZ\\Ismile Tech\\Covid-cnn-code\\Covid_CNN\\data\\test',\n",
    "            target_size=(64,64),batch_size=32,class_mode='binary')"
   ]
  },
  {
   "cell_type": "code",
   "execution_count": 11,
   "metadata": {},
   "outputs": [
    {
     "name": "stdout",
     "output_type": "stream",
     "text": [
      "{'negative': 0, 'positive': 1}\n"
     ]
    }
   ],
   "source": [
    "print(x_train.class_indices)"
   ]
  },
  {
   "cell_type": "code",
   "execution_count": 12,
   "metadata": {},
   "outputs": [],
   "source": [
    "model.compile(loss='binary_crossentropy', optimizer='adam',metrics=['accuracy'])"
   ]
  },
  {
   "cell_type": "code",
   "execution_count": 13,
   "metadata": {},
   "outputs": [
    {
     "name": "stdout",
     "output_type": "stream",
     "text": [
      "Epoch 1/30\n",
      "60/60 [==============================] - 121s 2s/step - loss: 0.4455 - accuracy: 0.8397 - val_loss: 0.2808 - val_accuracy: 0.8648\n",
      "Epoch 2/30\n",
      "60/60 [==============================] - 102s 2s/step - loss: 0.2120 - accuracy: 0.9151 - val_loss: 0.2719 - val_accuracy: 0.8673\n",
      "Epoch 3/30\n",
      "60/60 [==============================] - 92s 2s/step - loss: 0.1528 - accuracy: 0.9398 - val_loss: 0.2038 - val_accuracy: 0.8963\n",
      "Epoch 4/30\n",
      "60/60 [==============================] - 93s 2s/step - loss: 0.1584 - accuracy: 0.9455 - val_loss: 0.1050 - val_accuracy: 0.9072\n",
      "Epoch 5/30\n",
      "60/60 [==============================] - 99s 2s/step - loss: 0.1122 - accuracy: 0.9581 - val_loss: 0.3021 - val_accuracy: 0.8929\n",
      "Epoch 6/30\n",
      "60/60 [==============================] - 93s 2s/step - loss: 0.0896 - accuracy: 0.9686 - val_loss: 0.0311 - val_accuracy: 0.8844\n",
      "Epoch 7/30\n",
      "60/60 [==============================] - 94s 2s/step - loss: 0.0773 - accuracy: 0.9717 - val_loss: 0.4091 - val_accuracy: 0.8909\n",
      "Epoch 8/30\n",
      "60/60 [==============================] - 102s 2s/step - loss: 0.0851 - accuracy: 0.9717 - val_loss: 0.2052 - val_accuracy: 0.8963\n",
      "Epoch 9/30\n",
      "60/60 [==============================] - 91s 2s/step - loss: 0.0833 - accuracy: 0.9680 - val_loss: 0.1743 - val_accuracy: 0.9269\n",
      "Epoch 10/30\n",
      "60/60 [==============================] - 94s 2s/step - loss: 0.0704 - accuracy: 0.9749 - val_loss: 0.0061 - val_accuracy: 0.9381\n",
      "Epoch 11/30\n",
      "60/60 [==============================] - 98s 2s/step - loss: 0.0758 - accuracy: 0.9749 - val_loss: 0.0479 - val_accuracy: 0.9388\n",
      "Epoch 12/30\n",
      "60/60 [==============================] - 93s 2s/step - loss: 0.0994 - accuracy: 0.9642 - val_loss: 0.1139 - val_accuracy: 0.9388\n",
      "Epoch 13/30\n",
      "60/60 [==============================] - 93s 2s/step - loss: 0.0581 - accuracy: 0.9811 - val_loss: 0.3847 - val_accuracy: 0.8990\n",
      "Epoch 14/30\n",
      "60/60 [==============================] - 102s 2s/step - loss: 0.0764 - accuracy: 0.9719 - val_loss: 0.3005 - val_accuracy: 0.9456\n",
      "Epoch 15/30\n",
      "60/60 [==============================] - 93s 2s/step - loss: 0.0532 - accuracy: 0.9810 - val_loss: 0.0102 - val_accuracy: 0.9694\n",
      "Epoch 16/30\n",
      "60/60 [==============================] - 93s 2s/step - loss: 0.0591 - accuracy: 0.9792 - val_loss: 0.0204 - val_accuracy: 0.9479\n",
      "Epoch 17/30\n",
      "60/60 [==============================] - 102s 2s/step - loss: 0.0676 - accuracy: 0.9743 - val_loss: 0.1188 - val_accuracy: 0.9558\n",
      "Epoch 18/30\n",
      "60/60 [==============================] - 112s 2s/step - loss: 0.0451 - accuracy: 0.9843 - val_loss: 0.1939 - val_accuracy: 0.9558\n",
      "Epoch 19/30\n",
      "60/60 [==============================] - 95s 2s/step - loss: 0.0519 - accuracy: 0.9842 - val_loss: 0.3308 - val_accuracy: 0.9153\n",
      "Epoch 20/30\n",
      "60/60 [==============================] - 104s 2s/step - loss: 0.0488 - accuracy: 0.9812 - val_loss: 0.0988 - val_accuracy: 0.9507\n",
      "Epoch 21/30\n",
      "60/60 [==============================] - 130s 2s/step - loss: 0.0437 - accuracy: 0.9843 - val_loss: 0.2683 - val_accuracy: 0.9201\n",
      "Epoch 22/30\n",
      "60/60 [==============================] - 140s 2s/step - loss: 0.0545 - accuracy: 0.9796 - val_loss: 0.0228 - val_accuracy: 0.9528\n",
      "Epoch 23/30\n",
      "60/60 [==============================] - 132s 2s/step - loss: 0.0301 - accuracy: 0.9906 - val_loss: 0.3868 - val_accuracy: 0.9269\n",
      "Epoch 24/30\n",
      "60/60 [==============================] - 115s 2s/step - loss: 0.0360 - accuracy: 0.9884 - val_loss: 4.4638e-04 - val_accuracy: 0.9303\n",
      "Epoch 25/30\n",
      "60/60 [==============================] - 135s 2s/step - loss: 0.0326 - accuracy: 0.9885 - val_loss: 0.0335 - val_accuracy: 0.9495\n",
      "Epoch 26/30\n",
      "60/60 [==============================] - 143s 2s/step - loss: 0.0469 - accuracy: 0.9844 - val_loss: 0.0965 - val_accuracy: 0.9218\n",
      "Epoch 27/30\n",
      "60/60 [==============================] - 152s 3s/step - loss: 0.0604 - accuracy: 0.9780 - val_loss: 0.2713 - val_accuracy: 0.9201\n",
      "Epoch 28/30\n",
      "60/60 [==============================] - 141s 2s/step - loss: 0.0483 - accuracy: 0.9821 - val_loss: 0.0868 - val_accuracy: 0.9381\n",
      "Epoch 29/30\n",
      "60/60 [==============================] - 148s 2s/step - loss: 0.0341 - accuracy: 0.9880 - val_loss: 0.0069 - val_accuracy: 0.9575\n",
      "Epoch 30/30\n",
      "60/60 [==============================] - 132s 2s/step - loss: 0.0324 - accuracy: 0.9895 - val_loss: 0.0059 - val_accuracy: 0.9184\n"
     ]
    },
    {
     "data": {
      "text/plain": [
       "<keras.callbacks.callbacks.History at 0x2b3a7fe25c8>"
      ]
     },
     "execution_count": 13,
     "metadata": {},
     "output_type": "execute_result"
    }
   ],
   "source": [
    "model.fit_generator(x_train,steps_per_epoch=60, epochs=30, validation_data=x_test,validation_steps=20)"
   ]
  },
  {
   "cell_type": "code",
   "execution_count": 14,
   "metadata": {},
   "outputs": [],
   "source": [
    "model.save(\"covid_cnn.h5\")"
   ]
  },
  {
   "cell_type": "code",
   "execution_count": 3,
   "metadata": {},
   "outputs": [
    {
     "name": "stdout",
     "output_type": "stream",
     "text": [
      "Collecting keras\n",
      "  Downloading Keras-2.3.1-py2.py3-none-any.whl (377 kB)\n",
      "Requirement already satisfied: h5py in c:\\users\\dell\\anaconda3\\lib\\site-packages (from keras) (2.10.0)\n",
      "Collecting keras-applications>=1.0.6\n",
      "  Downloading Keras_Applications-1.0.8-py3-none-any.whl (50 kB)\n",
      "Requirement already satisfied: scipy>=0.14 in c:\\users\\dell\\anaconda3\\lib\\site-packages (from keras) (1.4.1)\n",
      "Requirement already satisfied: numpy>=1.9.1 in c:\\users\\dell\\anaconda3\\lib\\site-packages (from keras) (1.18.1)\n",
      "Requirement already satisfied: pyyaml in c:\\users\\dell\\anaconda3\\lib\\site-packages (from keras) (5.3)\n",
      "Requirement already satisfied: six>=1.9.0 in c:\\users\\dell\\anaconda3\\lib\\site-packages (from keras) (1.14.0)\n",
      "Requirement already satisfied: keras-preprocessing>=1.0.5 in c:\\users\\dell\\anaconda3\\lib\\site-packages (from keras) (1.1.2)\n",
      "Installing collected packages: keras-applications, keras\n",
      "Successfully installed keras-2.3.1 keras-applications-1.0.8\n"
     ]
    }
   ],
   "source": []
  },
  {
   "cell_type": "code",
   "execution_count": null,
   "metadata": {},
   "outputs": [],
   "source": []
  }
 ],
 "metadata": {
  "kernelspec": {
   "display_name": "Python 3",
   "language": "python",
   "name": "python3"
  },
  "language_info": {
   "codemirror_mode": {
    "name": "ipython",
    "version": 3
   },
   "file_extension": ".py",
   "mimetype": "text/x-python",
   "name": "python",
   "nbconvert_exporter": "python",
   "pygments_lexer": "ipython3",
   "version": "3.7.6"
  }
 },
 "nbformat": 4,
 "nbformat_minor": 2
}
